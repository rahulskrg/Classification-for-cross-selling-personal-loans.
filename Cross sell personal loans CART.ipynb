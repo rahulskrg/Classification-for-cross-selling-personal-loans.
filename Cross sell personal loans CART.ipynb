{
 "cells": [
  {
   "cell_type": "markdown",
   "metadata": {},
   "source": [
    "## Mini Project"
   ]
  },
  {
   "cell_type": "code",
   "execution_count": null,
   "metadata": {},
   "outputs": [],
   "source": [
    "import os\n",
    "import pandas as pd\n",
    "import numpy as np\n",
    "import matplotlib.pyplot as plt"
   ]
  },
  {
   "cell_type": "markdown",
   "metadata": {},
   "source": [
    "### Setting Working Directory"
   ]
  },
  {
   "cell_type": "code",
   "execution_count": null,
   "metadata": {},
   "outputs": [],
   "source": [
    "os.chdir(\"D:/Mini Project/6. Classification\")"
   ]
  },
  {
   "cell_type": "markdown",
   "metadata": {},
   "source": [
    "### Loading the Dataset\n"
   ]
  },
  {
   "cell_type": "code",
   "execution_count": null,
   "metadata": {},
   "outputs": [],
   "source": [
    "bank = pd.read_csv(\"PL_XSELL.csv\")"
   ]
  },
  {
   "cell_type": "code",
   "execution_count": null,
   "metadata": {},
   "outputs": [],
   "source": [
    "bank.info()"
   ]
  },
  {
   "cell_type": "markdown",
   "metadata": {},
   "source": [
    "### Removig columng not required for making the model"
   ]
  },
  {
   "cell_type": "code",
   "execution_count": null,
   "metadata": {},
   "outputs": [],
   "source": [
    "bank_final=bank.drop(columns=['AGE_BKT','ACC_OP_DATE','NO_OF_L_CR_TXNS','NO_OF_L_DR_TXNS','TOT_NO_OF_L_TXNS',\n",
    "                              'AMT_OTH_BK_ATM_USG_CHGS','AMT_MIN_BAL_NMC_CHGS','NO_OF_IW_CHQ_BNC_TXNS',\n",
    "                              'NO_OF_OW_CHQ_BNC_TXNS','AVG_AMT_PER_ATM_TXN','AVG_AMT_PER_CSH_WDL_TXN','AVG_AMT_PER_CHQ_TXN',\n",
    "                              'AVG_AMT_PER_NET_TXN','AVG_AMT_PER_MOB_TXN','random'])"
   ]
  },
  {
   "cell_type": "code",
   "execution_count": null,
   "metadata": {},
   "outputs": [],
   "source": [
    "bank_final.info()"
   ]
  },
  {
   "cell_type": "markdown",
   "metadata": {},
   "source": [
    "### Split datasets into train and test datasets"
   ]
  },
  {
   "cell_type": "code",
   "execution_count": null,
   "metadata": {},
   "outputs": [],
   "source": [
    "from sklearn.cross_validation import train_test_split"
   ]
  },
  {
   "cell_type": "code",
   "execution_count": null,
   "metadata": {},
   "outputs": [],
   "source": [
    "train,test = train_test_split( bank_final, test_size = 0.3)"
   ]
  },
  {
   "cell_type": "code",
   "execution_count": null,
   "metadata": {},
   "outputs": [],
   "source": [
    "train.count()"
   ]
  },
  {
   "cell_type": "code",
   "execution_count": null,
   "metadata": {},
   "outputs": [],
   "source": [
    "test.count()"
   ]
  },
  {
   "cell_type": "markdown",
   "metadata": {},
   "source": [
    "### Splitting into features and response variables"
   ]
  },
  {
   "cell_type": "code",
   "execution_count": null,
   "metadata": {},
   "outputs": [],
   "source": [
    "X_train =  train[['AGE', 'GENDER', 'BALANCE','OCCUPATION','SCR', 'HOLDING_PERIOD', 'ACC_TYPE', 'LEN_OF_RLTN_IN_MNTH',\n",
    "                 'NO_OF_BR_CSH_WDL_DR_TXNS','NO_OF_ATM_DR_TXNS',\n",
    "                 'NO_OF_NET_DR_TXNS','NO_OF_MOB_DR_TXNS','NO_OF_CHQ_DR_TXNS','FLG_HAS_CC','AMT_ATM_DR','AMT_BR_CSH_WDL_DR',\n",
    "                 'AMT_CHQ_DR','AMT_NET_DR','AMT_MOB_DR','AMT_L_DR','FLG_HAS_ANY_CHGS','FLG_HAS_NOMINEE','FLG_HAS_OLD_LOAN']]"
   ]
  },
  {
   "cell_type": "code",
   "execution_count": null,
   "metadata": {},
   "outputs": [],
   "source": [
    "y_train = train[\"TARGET\"]"
   ]
  },
  {
   "cell_type": "markdown",
   "metadata": {},
   "source": [
    "Categorical Variable to Numerical Variables"
   ]
  },
  {
   "cell_type": "code",
   "execution_count": null,
   "metadata": {},
   "outputs": [],
   "source": [
    "X_train = pd.get_dummies(X_train)\n",
    "X_train.columns"
   ]
  },
  {
   "cell_type": "code",
   "execution_count": null,
   "metadata": {},
   "outputs": [],
   "source": [
    "X_train.head()"
   ]
  },
  {
   "cell_type": "code",
   "execution_count": null,
   "metadata": {},
   "outputs": [],
   "source": [
    "X_test=test[['AGE', 'GENDER', 'BALANCE','OCCUPATION','SCR', 'HOLDING_PERIOD', 'ACC_TYPE', 'LEN_OF_RLTN_IN_MNTH',\n",
    "                 'NO_OF_BR_CSH_WDL_DR_TXNS','NO_OF_ATM_DR_TXNS',\n",
    "                 'NO_OF_NET_DR_TXNS','NO_OF_MOB_DR_TXNS','NO_OF_CHQ_DR_TXNS','FLG_HAS_CC','AMT_ATM_DR','AMT_BR_CSH_WDL_DR',\n",
    "                 'AMT_CHQ_DR','AMT_NET_DR','AMT_MOB_DR','AMT_L_DR','FLG_HAS_ANY_CHGS','FLG_HAS_NOMINEE','FLG_HAS_OLD_LOAN']]\n",
    "y_test= test[\"TARGET\"]"
   ]
  },
  {
   "cell_type": "code",
   "execution_count": null,
   "metadata": {},
   "outputs": [],
   "source": [
    "X_test= pd.get_dummies(X_test)"
   ]
  },
  {
   "cell_type": "code",
   "execution_count": null,
   "metadata": {},
   "outputs": [],
   "source": [
    "print(type(X_train) , type(y_train))"
   ]
  },
  {
   "cell_type": "code",
   "execution_count": null,
   "metadata": {},
   "outputs": [],
   "source": [
    "X_train.count()"
   ]
  },
  {
   "cell_type": "code",
   "execution_count": null,
   "metadata": {},
   "outputs": [],
   "source": [
    "X_test.count()"
   ]
  },
  {
   "cell_type": "code",
   "execution_count": null,
   "metadata": {},
   "outputs": [],
   "source": [
    "y_train.value_counts()"
   ]
  },
  {
   "cell_type": "code",
   "execution_count": null,
   "metadata": {},
   "outputs": [],
   "source": [
    "Response_percentage = 1801/14000 * 100\n",
    "Response_percentage\n"
   ]
  },
  {
   "cell_type": "markdown",
   "metadata": {},
   "source": [
    "Only 12.86 % are 1’s here. So the data is unbalanced, need to oversample the data to make it balanced."
   ]
  },
  {
   "cell_type": "markdown",
   "metadata": {},
   "source": [
    "### Decision Tree"
   ]
  },
  {
   "cell_type": "code",
   "execution_count": 254,
   "metadata": {},
   "outputs": [],
   "source": [
    "from sklearn.tree import DecisionTreeClassifier"
   ]
  },
  {
   "cell_type": "markdown",
   "metadata": {},
   "source": [
    "Setting the parameter"
   ]
  },
  {
   "cell_type": "code",
   "execution_count": 255,
   "metadata": {},
   "outputs": [],
   "source": [
    "clf = DecisionTreeClassifier(criterion = \"gini\" , \n",
    "                             min_samples_split = 100,\n",
    "                             min_samples_leaf = 10,\n",
    "                             max_depth = 50)"
   ]
  },
  {
   "cell_type": "markdown",
   "metadata": {},
   "source": [
    "Calling the fit function to build the tree"
   ]
  },
  {
   "cell_type": "code",
   "execution_count": 256,
   "metadata": {},
   "outputs": [
    {
     "data": {
      "text/plain": [
       "DecisionTreeClassifier(class_weight=None, criterion='gini', max_depth=50,\n",
       "            max_features=None, max_leaf_nodes=None,\n",
       "            min_impurity_decrease=0.0, min_impurity_split=None,\n",
       "            min_samples_leaf=10, min_samples_split=100,\n",
       "            min_weight_fraction_leaf=0.0, presort=False, random_state=None,\n",
       "            splitter='best')"
      ]
     },
     "execution_count": 256,
     "metadata": {},
     "output_type": "execute_result"
    }
   ],
   "source": [
    "clf.fit(X_train,y_train)"
   ]
  },
  {
   "cell_type": "code",
   "execution_count": 304,
   "metadata": {},
   "outputs": [],
   "source": [
    "import pydotplus\n",
    "import graphviz\n",
    "import io\n",
    "from sklearn.tree import export_graphviz\n",
    "from scipy import misc\n",
    "from matplotlib import pyplot as plt\n",
    "f = io.StringIO()"
   ]
  },
  {
   "cell_type": "code",
   "execution_count": 308,
   "metadata": {},
   "outputs": [],
   "source": [
    "dot_data=tree.export_graphviz(clf,out_file=None)\n",
    "graph = graphviz.Source(dot_data)\n",
    "graph.render(\"Cart\")"
   ]
  },
  {
   "cell_type": "markdown",
   "metadata": {},
   "source": [
    "Checking the nodes"
   ]
  },
  {
   "cell_type": "code",
   "execution_count": 309,
   "metadata": {},
   "outputs": [
    {
     "data": {
      "text/html": [
       "<div>\n",
       "<style scoped>\n",
       "    .dataframe tbody tr th:only-of-type {\n",
       "        vertical-align: middle;\n",
       "    }\n",
       "\n",
       "    .dataframe tbody tr th {\n",
       "        vertical-align: top;\n",
       "    }\n",
       "\n",
       "    .dataframe thead th {\n",
       "        text-align: right;\n",
       "    }\n",
       "</style>\n",
       "<table border=\"1\" class=\"dataframe\">\n",
       "  <thead>\n",
       "    <tr style=\"text-align: right;\">\n",
       "      <th></th>\n",
       "      <th>left_child</th>\n",
       "      <th>right_child</th>\n",
       "      <th>feature</th>\n",
       "      <th>threshold</th>\n",
       "      <th>impurity</th>\n",
       "      <th>n_node_samples</th>\n",
       "      <th>weighted_n_node_samples</th>\n",
       "    </tr>\n",
       "  </thead>\n",
       "  <tbody>\n",
       "    <tr>\n",
       "      <th>0</th>\n",
       "      <td>1</td>\n",
       "      <td>336</td>\n",
       "      <td>3</td>\n",
       "      <td>18.5</td>\n",
       "      <td>0.224400</td>\n",
       "      <td>14000</td>\n",
       "      <td>14000.0</td>\n",
       "    </tr>\n",
       "    <tr>\n",
       "      <th>1</th>\n",
       "      <td>2</td>\n",
       "      <td>285</td>\n",
       "      <td>25</td>\n",
       "      <td>0.5</td>\n",
       "      <td>0.267902</td>\n",
       "      <td>8736</td>\n",
       "      <td>8736.0</td>\n",
       "    </tr>\n",
       "    <tr>\n",
       "      <th>2</th>\n",
       "      <td>3</td>\n",
       "      <td>124</td>\n",
       "      <td>11</td>\n",
       "      <td>7650.0</td>\n",
       "      <td>0.242510</td>\n",
       "      <td>7196</td>\n",
       "      <td>7196.0</td>\n",
       "    </tr>\n",
       "    <tr>\n",
       "      <th>3</th>\n",
       "      <td>4</td>\n",
       "      <td>83</td>\n",
       "      <td>10</td>\n",
       "      <td>0.5</td>\n",
       "      <td>0.174483</td>\n",
       "      <td>3262</td>\n",
       "      <td>3262.0</td>\n",
       "    </tr>\n",
       "    <tr>\n",
       "      <th>4</th>\n",
       "      <td>5</td>\n",
       "      <td>78</td>\n",
       "      <td>16</td>\n",
       "      <td>1528705.0</td>\n",
       "      <td>0.142461</td>\n",
       "      <td>2319</td>\n",
       "      <td>2319.0</td>\n",
       "    </tr>\n",
       "  </tbody>\n",
       "</table>\n",
       "</div>"
      ],
      "text/plain": [
       "   left_child  right_child  feature  threshold  impurity  n_node_samples  \\\n",
       "0           1          336        3       18.5  0.224400           14000   \n",
       "1           2          285       25        0.5  0.267902            8736   \n",
       "2           3          124       11     7650.0  0.242510            7196   \n",
       "3           4           83       10        0.5  0.174483            3262   \n",
       "4           5           78       16  1528705.0  0.142461            2319   \n",
       "\n",
       "   weighted_n_node_samples  \n",
       "0                  14000.0  \n",
       "1                   8736.0  \n",
       "2                   7196.0  \n",
       "3                   3262.0  \n",
       "4                   2319.0  "
      ]
     },
     "execution_count": 309,
     "metadata": {},
     "output_type": "execute_result"
    }
   ],
   "source": [
    "Nodes = pd.DataFrame(clf.tree_.__getstate__()[\"nodes\"])\n",
    "Nodes.head()"
   ]
  },
  {
   "cell_type": "markdown",
   "metadata": {},
   "source": [
    "### Finding the variable with more importance"
   ]
  },
  {
   "cell_type": "code",
   "execution_count": 310,
   "metadata": {},
   "outputs": [
    {
     "data": {
      "text/html": [
       "<div>\n",
       "<style scoped>\n",
       "    .dataframe tbody tr th:only-of-type {\n",
       "        vertical-align: middle;\n",
       "    }\n",
       "\n",
       "    .dataframe tbody tr th {\n",
       "        vertical-align: top;\n",
       "    }\n",
       "\n",
       "    .dataframe thead th {\n",
       "        text-align: right;\n",
       "    }\n",
       "</style>\n",
       "<table border=\"1\" class=\"dataframe\">\n",
       "  <thead>\n",
       "    <tr style=\"text-align: right;\">\n",
       "      <th></th>\n",
       "      <th>0</th>\n",
       "      <th>1</th>\n",
       "    </tr>\n",
       "  </thead>\n",
       "  <tbody>\n",
       "    <tr>\n",
       "      <th>0</th>\n",
       "      <td>AGE</td>\n",
       "      <td>0.0441409</td>\n",
       "    </tr>\n",
       "    <tr>\n",
       "      <th>1</th>\n",
       "      <td>BALANCE</td>\n",
       "      <td>0.0968526</td>\n",
       "    </tr>\n",
       "    <tr>\n",
       "      <th>2</th>\n",
       "      <td>SCR</td>\n",
       "      <td>0.130252</td>\n",
       "    </tr>\n",
       "    <tr>\n",
       "      <th>3</th>\n",
       "      <td>HOLDING_PERIOD</td>\n",
       "      <td>0.113209</td>\n",
       "    </tr>\n",
       "    <tr>\n",
       "      <th>4</th>\n",
       "      <td>LEN_OF_RLTN_IN_MNTH</td>\n",
       "      <td>0.0509812</td>\n",
       "    </tr>\n",
       "    <tr>\n",
       "      <th>5</th>\n",
       "      <td>NO_OF_BR_CSH_WDL_DR_TXNS</td>\n",
       "      <td>0.0239865</td>\n",
       "    </tr>\n",
       "    <tr>\n",
       "      <th>6</th>\n",
       "      <td>NO_OF_ATM_DR_TXNS</td>\n",
       "      <td>0.0220064</td>\n",
       "    </tr>\n",
       "    <tr>\n",
       "      <th>7</th>\n",
       "      <td>NO_OF_NET_DR_TXNS</td>\n",
       "      <td>0.0144929</td>\n",
       "    </tr>\n",
       "    <tr>\n",
       "      <th>8</th>\n",
       "      <td>NO_OF_MOB_DR_TXNS</td>\n",
       "      <td>0.00159868</td>\n",
       "    </tr>\n",
       "    <tr>\n",
       "      <th>9</th>\n",
       "      <td>NO_OF_CHQ_DR_TXNS</td>\n",
       "      <td>0.0187131</td>\n",
       "    </tr>\n",
       "    <tr>\n",
       "      <th>10</th>\n",
       "      <td>FLG_HAS_CC</td>\n",
       "      <td>0.0391015</td>\n",
       "    </tr>\n",
       "    <tr>\n",
       "      <th>11</th>\n",
       "      <td>AMT_ATM_DR</td>\n",
       "      <td>0.0648283</td>\n",
       "    </tr>\n",
       "    <tr>\n",
       "      <th>12</th>\n",
       "      <td>AMT_BR_CSH_WDL_DR</td>\n",
       "      <td>0.0707139</td>\n",
       "    </tr>\n",
       "    <tr>\n",
       "      <th>13</th>\n",
       "      <td>AMT_CHQ_DR</td>\n",
       "      <td>0.0404548</td>\n",
       "    </tr>\n",
       "    <tr>\n",
       "      <th>14</th>\n",
       "      <td>AMT_NET_DR</td>\n",
       "      <td>0.046362</td>\n",
       "    </tr>\n",
       "    <tr>\n",
       "      <th>15</th>\n",
       "      <td>AMT_MOB_DR</td>\n",
       "      <td>0.0554876</td>\n",
       "    </tr>\n",
       "    <tr>\n",
       "      <th>16</th>\n",
       "      <td>AMT_L_DR</td>\n",
       "      <td>0.0686454</td>\n",
       "    </tr>\n",
       "    <tr>\n",
       "      <th>17</th>\n",
       "      <td>FLG_HAS_ANY_CHGS</td>\n",
       "      <td>0.00622358</td>\n",
       "    </tr>\n",
       "    <tr>\n",
       "      <th>18</th>\n",
       "      <td>FLG_HAS_NOMINEE</td>\n",
       "      <td>0.00112519</td>\n",
       "    </tr>\n",
       "    <tr>\n",
       "      <th>19</th>\n",
       "      <td>FLG_HAS_OLD_LOAN</td>\n",
       "      <td>0</td>\n",
       "    </tr>\n",
       "    <tr>\n",
       "      <th>20</th>\n",
       "      <td>GENDER_F</td>\n",
       "      <td>0</td>\n",
       "    </tr>\n",
       "    <tr>\n",
       "      <th>21</th>\n",
       "      <td>GENDER_M</td>\n",
       "      <td>0.00507665</td>\n",
       "    </tr>\n",
       "    <tr>\n",
       "      <th>22</th>\n",
       "      <td>GENDER_O</td>\n",
       "      <td>0.00861045</td>\n",
       "    </tr>\n",
       "    <tr>\n",
       "      <th>23</th>\n",
       "      <td>OCCUPATION_PROF</td>\n",
       "      <td>0.00180747</td>\n",
       "    </tr>\n",
       "    <tr>\n",
       "      <th>24</th>\n",
       "      <td>OCCUPATION_SAL</td>\n",
       "      <td>0.00650224</td>\n",
       "    </tr>\n",
       "    <tr>\n",
       "      <th>25</th>\n",
       "      <td>OCCUPATION_SELF-EMP</td>\n",
       "      <td>0.0462418</td>\n",
       "    </tr>\n",
       "    <tr>\n",
       "      <th>26</th>\n",
       "      <td>OCCUPATION_SENP</td>\n",
       "      <td>0.00843603</td>\n",
       "    </tr>\n",
       "    <tr>\n",
       "      <th>27</th>\n",
       "      <td>ACC_TYPE_CA</td>\n",
       "      <td>0.00866891</td>\n",
       "    </tr>\n",
       "    <tr>\n",
       "      <th>28</th>\n",
       "      <td>ACC_TYPE_SA</td>\n",
       "      <td>0.0054811</td>\n",
       "    </tr>\n",
       "  </tbody>\n",
       "</table>\n",
       "</div>"
      ],
      "text/plain": [
       "                           0           1\n",
       "0                        AGE   0.0441409\n",
       "1                    BALANCE   0.0968526\n",
       "2                        SCR    0.130252\n",
       "3             HOLDING_PERIOD    0.113209\n",
       "4        LEN_OF_RLTN_IN_MNTH   0.0509812\n",
       "5   NO_OF_BR_CSH_WDL_DR_TXNS   0.0239865\n",
       "6          NO_OF_ATM_DR_TXNS   0.0220064\n",
       "7          NO_OF_NET_DR_TXNS   0.0144929\n",
       "8          NO_OF_MOB_DR_TXNS  0.00159868\n",
       "9          NO_OF_CHQ_DR_TXNS   0.0187131\n",
       "10                FLG_HAS_CC   0.0391015\n",
       "11                AMT_ATM_DR   0.0648283\n",
       "12         AMT_BR_CSH_WDL_DR   0.0707139\n",
       "13                AMT_CHQ_DR   0.0404548\n",
       "14                AMT_NET_DR    0.046362\n",
       "15                AMT_MOB_DR   0.0554876\n",
       "16                  AMT_L_DR   0.0686454\n",
       "17          FLG_HAS_ANY_CHGS  0.00622358\n",
       "18           FLG_HAS_NOMINEE  0.00112519\n",
       "19          FLG_HAS_OLD_LOAN           0\n",
       "20                  GENDER_F           0\n",
       "21                  GENDER_M  0.00507665\n",
       "22                  GENDER_O  0.00861045\n",
       "23           OCCUPATION_PROF  0.00180747\n",
       "24            OCCUPATION_SAL  0.00650224\n",
       "25       OCCUPATION_SELF-EMP   0.0462418\n",
       "26           OCCUPATION_SENP  0.00843603\n",
       "27               ACC_TYPE_CA  0.00866891\n",
       "28               ACC_TYPE_SA   0.0054811"
      ]
     },
     "execution_count": 310,
     "metadata": {},
     "output_type": "execute_result"
    }
   ],
   "source": [
    "feature_importance = pd.DataFrame([X_train.columns,\n",
    "                               clf.tree_.compute_feature_importances()])\n",
    "feature_importance.T "
   ]
  },
  {
   "cell_type": "markdown",
   "metadata": {},
   "source": [
    "Here , SCR = 0.1302, which is the most important variable in the dataset"
   ]
  },
  {
   "cell_type": "markdown",
   "metadata": {},
   "source": [
    "### Checking how good is the model,"
   ]
  },
  {
   "cell_type": "markdown",
   "metadata": {},
   "source": [
    "Predicting Y values with training data set"
   ]
  },
  {
   "cell_type": "code",
   "execution_count": 311,
   "metadata": {},
   "outputs": [
    {
     "data": {
      "text/plain": [
       "array([0, 0, 0, ..., 0, 0, 0], dtype=int64)"
      ]
     },
     "execution_count": 311,
     "metadata": {},
     "output_type": "execute_result"
    }
   ],
   "source": [
    "pred_y_train = clf.predict(X_train )\n",
    "pred_y_train"
   ]
  },
  {
   "cell_type": "markdown",
   "metadata": {},
   "source": [
    "Let us see the classification accuracy of our model"
   ]
  },
  {
   "cell_type": "code",
   "execution_count": 312,
   "metadata": {},
   "outputs": [],
   "source": [
    "from sklearn.metrics import accuracy_score\n",
    "from sklearn.metrics import roc_curve\n",
    "from sklearn.metrics import auc"
   ]
  },
  {
   "cell_type": "code",
   "execution_count": 313,
   "metadata": {},
   "outputs": [
    {
     "data": {
      "text/plain": [
       "0.8871428571428571"
      ]
     },
     "execution_count": 313,
     "metadata": {},
     "output_type": "execute_result"
    }
   ],
   "source": [
    "score = accuracy_score(y_train, pred_y_train)\n",
    "score"
   ]
  },
  {
   "cell_type": "markdown",
   "metadata": {},
   "source": [
    "Here the got accuracy is 88.71%, which is same as that without model. So here classification accuracy is not a good measure."
   ]
  },
  {
   "cell_type": "code",
   "execution_count": 314,
   "metadata": {},
   "outputs": [
    {
     "data": {
      "text/plain": [
       "array([[1.        , 0.        ],\n",
       "       [0.98734177, 0.01265823],\n",
       "       [0.87323944, 0.12676056],\n",
       "       ...,\n",
       "       [1.        , 0.        ],\n",
       "       [0.97916667, 0.02083333],\n",
       "       [1.        , 0.        ]])"
      ]
     },
     "execution_count": 314,
     "metadata": {},
     "output_type": "execute_result"
    }
   ],
   "source": [
    "y_train_prob = clf.predict_proba(X_train)\n",
    "y_train_prob"
   ]
  },
  {
   "cell_type": "markdown",
   "metadata": {},
   "source": [
    "#### Checking for AUC,"
   ]
  },
  {
   "cell_type": "code",
   "execution_count": 315,
   "metadata": {},
   "outputs": [
    {
     "data": {
      "text/plain": [
       "0.8936883636725268"
      ]
     },
     "execution_count": 315,
     "metadata": {},
     "output_type": "execute_result"
    }
   ],
   "source": [
    "fpr, tpr, thresholds = roc_curve(y_train, y_train_prob[:,1])\n",
    "auc(fpr, tpr)\n"
   ]
  },
  {
   "cell_type": "markdown",
   "metadata": {},
   "source": [
    "Here AUC is around 0.89, so the model is good"
   ]
  },
  {
   "cell_type": "markdown",
   "metadata": {},
   "source": [
    "### Checking accuracy with test data set"
   ]
  },
  {
   "cell_type": "code",
   "execution_count": 316,
   "metadata": {},
   "outputs": [
    {
     "data": {
      "text/plain": [
       "array([0, 0, 0, ..., 0, 0, 0], dtype=int64)"
      ]
     },
     "execution_count": 316,
     "metadata": {},
     "output_type": "execute_result"
    }
   ],
   "source": [
    "pred_y_test = clf.predict(X_test)\n",
    "pred_y_test"
   ]
  },
  {
   "cell_type": "code",
   "execution_count": 317,
   "metadata": {},
   "outputs": [
    {
     "data": {
      "text/plain": [
       "0.8726666666666667"
      ]
     },
     "execution_count": 317,
     "metadata": {},
     "output_type": "execute_result"
    }
   ],
   "source": [
    "score_h = accuracy_score(y_test, pred_y_test)\n",
    "score_h"
   ]
  },
  {
   "cell_type": "markdown",
   "metadata": {},
   "source": [
    "Here accuracy is 87.26%, the model accuracy is not much deviating from that of training data. So the model is not overfitting\n"
   ]
  },
  {
   "cell_type": "markdown",
   "metadata": {},
   "source": [
    "### AUC for test data"
   ]
  },
  {
   "cell_type": "code",
   "execution_count": 318,
   "metadata": {},
   "outputs": [
    {
     "data": {
      "text/plain": [
       "0.8136965957840429"
      ]
     },
     "execution_count": 318,
     "metadata": {},
     "output_type": "execute_result"
    }
   ],
   "source": [
    "y_test_prob = clf.predict_proba(X_test)\n",
    "fpr, tpr, thresholds = roc_curve(y_test, y_test_prob[:,1])\n",
    "auc(fpr, tpr)"
   ]
  },
  {
   "cell_type": "markdown",
   "metadata": {},
   "source": [
    "AUC has reduced in the test data."
   ]
  },
  {
   "cell_type": "code",
   "execution_count": 319,
   "metadata": {},
   "outputs": [
    {
     "data": {
      "text/plain": [
       "0.08952551477170989"
      ]
     },
     "execution_count": 319,
     "metadata": {},
     "output_type": "execute_result"
    }
   ],
   "source": [
    "(0.8936-0.8136)/0.8936"
   ]
  },
  {
   "cell_type": "markdown",
   "metadata": {},
   "source": [
    "That is 8.95 % variation in AUC compared to that of training data, that is the model is slightly over fitting."
   ]
  },
  {
   "cell_type": "markdown",
   "metadata": {},
   "source": [
    "### Now doing cross validation to overcome over fitting"
   ]
  },
  {
   "cell_type": "code",
   "execution_count": 320,
   "metadata": {},
   "outputs": [
    {
     "data": {
      "text/plain": [
       "0.7825178682015925"
      ]
     },
     "execution_count": 320,
     "metadata": {},
     "output_type": "execute_result"
    }
   ],
   "source": [
    "from sklearn.cross_validation import cross_val_score\n",
    "scores = cross_val_score(clf, X_train , y_train, cv = 10, scoring='roc_auc')\n",
    "\n",
    "scores.mean()\n"
   ]
  },
  {
   "cell_type": "code",
   "execution_count": 321,
   "metadata": {},
   "outputs": [
    {
     "data": {
      "text/plain": [
       "0.020836155798953617"
      ]
     },
     "execution_count": 321,
     "metadata": {},
     "output_type": "execute_result"
    }
   ],
   "source": [
    "scores.std()"
   ]
  },
  {
   "cell_type": "markdown",
   "metadata": {},
   "source": [
    "So by cross validation we get the correct AUC of the model, that is 0.7826 is the correct AUC with standard deviation of 0.020. That we have to use this AUC as final statistics."
   ]
  },
  {
   "cell_type": "code",
   "execution_count": 322,
   "metadata": {},
   "outputs": [
    {
     "data": {
      "text/plain": [
       "array([[    0, 12197],\n",
       "       [    1,  1803]], dtype=int64)"
      ]
     },
     "execution_count": 322,
     "metadata": {},
     "output_type": "execute_result"
    }
   ],
   "source": [
    "y_freq = np.bincount(y_train)\n",
    "y_val = np.nonzero(y_freq)[0]\n",
    "np.vstack((y_val,y_freq[y_val])).T\n"
   ]
  },
  {
   "cell_type": "markdown",
   "metadata": {},
   "source": [
    "Response rate"
   ]
  },
  {
   "cell_type": "code",
   "execution_count": 323,
   "metadata": {},
   "outputs": [
    {
     "data": {
      "text/plain": [
       "0.12878571428571428"
      ]
     },
     "execution_count": 323,
     "metadata": {},
     "output_type": "execute_result"
    }
   ],
   "source": [
    "1803/14000"
   ]
  },
  {
   "cell_type": "markdown",
   "metadata": {},
   "source": [
    "### Now we need to try to improve AUC by Grid search Cross validation"
   ]
  },
  {
   "cell_type": "code",
   "execution_count": 275,
   "metadata": {},
   "outputs": [],
   "source": [
    "from sklearn.grid_search import GridSearchCV"
   ]
  },
  {
   "cell_type": "code",
   "execution_count": 347,
   "metadata": {},
   "outputs": [
    {
     "data": {
      "text/plain": [
       "GridSearchCV(cv=10, error_score='raise',\n",
       "       estimator=DecisionTreeClassifier(class_weight=None, criterion='gini', max_depth=None,\n",
       "            max_features=None, max_leaf_nodes=None,\n",
       "            min_impurity_decrease=0.0, min_impurity_split=None,\n",
       "            min_samples_leaf=10, min_samples_split=100,\n",
       "            min_weight_fraction_leaf=0.0, presort=False, random_state=None,\n",
       "            splitter='best'),\n",
       "       fit_params={}, iid=True, n_jobs=1,\n",
       "       param_grid={'criterion': ['gini', 'entropy'], 'max_depth': array([ 3,  4,  5,  6,  7,  8,  9, 10, 11, 12, 13, 14, 15, 16, 17, 18, 19,\n",
       "       20, 21, 22, 23, 24, 25, 26, 27, 28, 29, 30, 31, 32, 33, 34, 35, 36,\n",
       "       37, 38, 39, 40, 41, 42, 43, 44, 45, 46, 47, 48, 49])},\n",
       "       pre_dispatch='2*n_jobs', refit=True, scoring='roc_auc', verbose=0)"
      ]
     },
     "execution_count": 347,
     "metadata": {},
     "output_type": "execute_result"
    }
   ],
   "source": [
    "param_dist = {\"criterion\": [\"gini\",\"entropy\"],\n",
    "              \"max_depth\": np.arange(3,50),\n",
    "              }\n",
    "\n",
    "tree = DecisionTreeClassifier(min_samples_split = 100,\n",
    "                             min_samples_leaf = 10)\n",
    "\n",
    "tree_cv  = GridSearchCV(tree, param_dist, cv = 10, \n",
    "                        scoring = 'roc_auc')\n",
    "\n",
    "tree_cv.fit(X_train,y_train)"
   ]
  },
  {
   "cell_type": "markdown",
   "metadata": {},
   "source": [
    "Building the model using best combination of parameters"
   ]
  },
  {
   "cell_type": "code",
   "execution_count": 325,
   "metadata": {},
   "outputs": [
    {
     "name": "stdout",
     "output_type": "stream",
     "text": [
      "Tuned Decision Tree parameter : {'criterion': 'entropy', 'max_depth': 40}\n"
     ]
    }
   ],
   "source": [
    "print(\"Tuned Decision Tree parameter : {}\".format(tree_cv.best_params_))"
   ]
  },
  {
   "cell_type": "code",
   "execution_count": 326,
   "metadata": {},
   "outputs": [
    {
     "data": {
      "text/plain": [
       "DecisionTreeClassifier(class_weight=None, criterion='entropy', max_depth=40,\n",
       "            max_features=None, max_leaf_nodes=None,\n",
       "            min_impurity_decrease=0.0, min_impurity_split=None,\n",
       "            min_samples_leaf=10, min_samples_split=100,\n",
       "            min_weight_fraction_leaf=0.0, presort=False, random_state=None,\n",
       "            splitter='best')"
      ]
     },
     "execution_count": 326,
     "metadata": {},
     "output_type": "execute_result"
    }
   ],
   "source": [
    "classifier = tree_cv.best_estimator_\n",
    "\n",
    "classifier.fit(X_train,y_train)\n"
   ]
  },
  {
   "cell_type": "markdown",
   "metadata": {},
   "source": [
    "#### predicting probabilities"
   ]
  },
  {
   "cell_type": "code",
   "execution_count": 327,
   "metadata": {},
   "outputs": [
    {
     "data": {
      "text/plain": [
       "0.9003815891554032"
      ]
     },
     "execution_count": 327,
     "metadata": {},
     "output_type": "execute_result"
    }
   ],
   "source": [
    "y_train_prob = classifier.predict_proba(X_train)\n",
    "fpr, tpr, thresholds = roc_curve(y_train, y_train_prob[:,1])\n",
    "auc_d = auc(fpr, tpr)\n",
    "auc_d"
   ]
  },
  {
   "cell_type": "code",
   "execution_count": 328,
   "metadata": {},
   "outputs": [
    {
     "data": {
      "text/plain": [
       "0.803691981407073"
      ]
     },
     "execution_count": 328,
     "metadata": {},
     "output_type": "execute_result"
    }
   ],
   "source": [
    "y_test_prob = classifier.predict_proba(X_test)\n",
    "fpr, tpr, thresholds = roc_curve(y_test, y_test_prob[:,1])\n",
    "auc_h = auc(fpr, tpr)\n",
    "auc_h"
   ]
  },
  {
   "cell_type": "code",
   "execution_count": 329,
   "metadata": {},
   "outputs": [
    {
     "data": {
      "text/plain": [
       "0.10738736654869772"
      ]
     },
     "execution_count": 329,
     "metadata": {},
     "output_type": "execute_result"
    }
   ],
   "source": [
    "(auc_d-auc_h)/auc_d"
   ]
  },
  {
   "cell_type": "markdown",
   "metadata": {},
   "source": [
    "Here getting a deviation of 10.8%.  That is also more than 5%."
   ]
  },
  {
   "cell_type": "markdown",
   "metadata": {},
   "source": [
    "#### Now checking rank ordering"
   ]
  },
  {
   "cell_type": "code",
   "execution_count": 330,
   "metadata": {},
   "outputs": [
    {
     "name": "stderr",
     "output_type": "stream",
     "text": [
      "C:\\ProgramData\\Anaconda3\\lib\\site-packages\\ipykernel_launcher.py:2: SettingWithCopyWarning: \n",
      "A value is trying to be set on a copy of a slice from a DataFrame.\n",
      "Try using .loc[row_indexer,col_indexer] = value instead\n",
      "\n",
      "See the caveats in the documentation: http://pandas.pydata.org/pandas-docs/stable/indexing.html#indexing-view-versus-copy\n",
      "  \n"
     ]
    }
   ],
   "source": [
    "Prediction = classifier.predict_proba(X_train)\n",
    "train[\"prob_score\"] = Prediction[:,1]"
   ]
  },
  {
   "cell_type": "code",
   "execution_count": 331,
   "metadata": {
    "scrolled": true
   },
   "outputs": [
    {
     "data": {
      "text/html": [
       "<div>\n",
       "<style scoped>\n",
       "    .dataframe tbody tr th:only-of-type {\n",
       "        vertical-align: middle;\n",
       "    }\n",
       "\n",
       "    .dataframe tbody tr th {\n",
       "        vertical-align: top;\n",
       "    }\n",
       "\n",
       "    .dataframe thead th {\n",
       "        text-align: right;\n",
       "    }\n",
       "</style>\n",
       "<table border=\"1\" class=\"dataframe\">\n",
       "  <thead>\n",
       "    <tr style=\"text-align: right;\">\n",
       "      <th></th>\n",
       "      <th>CUST_ID</th>\n",
       "      <th>TARGET</th>\n",
       "      <th>AGE</th>\n",
       "      <th>GENDER</th>\n",
       "      <th>BALANCE</th>\n",
       "      <th>OCCUPATION</th>\n",
       "      <th>SCR</th>\n",
       "      <th>HOLDING_PERIOD</th>\n",
       "      <th>ACC_TYPE</th>\n",
       "      <th>LEN_OF_RLTN_IN_MNTH</th>\n",
       "      <th>...</th>\n",
       "      <th>AMT_BR_CSH_WDL_DR</th>\n",
       "      <th>AMT_CHQ_DR</th>\n",
       "      <th>AMT_NET_DR</th>\n",
       "      <th>AMT_MOB_DR</th>\n",
       "      <th>AMT_L_DR</th>\n",
       "      <th>FLG_HAS_ANY_CHGS</th>\n",
       "      <th>FLG_HAS_NOMINEE</th>\n",
       "      <th>FLG_HAS_OLD_LOAN</th>\n",
       "      <th>prob_score</th>\n",
       "      <th>decile</th>\n",
       "    </tr>\n",
       "  </thead>\n",
       "  <tbody>\n",
       "    <tr>\n",
       "      <th>14583</th>\n",
       "      <td>C9005</td>\n",
       "      <td>0</td>\n",
       "      <td>38</td>\n",
       "      <td>M</td>\n",
       "      <td>32662.89</td>\n",
       "      <td>SAL</td>\n",
       "      <td>486</td>\n",
       "      <td>21</td>\n",
       "      <td>SA</td>\n",
       "      <td>149</td>\n",
       "      <td>...</td>\n",
       "      <td>58360</td>\n",
       "      <td>0</td>\n",
       "      <td>0.0</td>\n",
       "      <td>0</td>\n",
       "      <td>58360.0</td>\n",
       "      <td>0</td>\n",
       "      <td>1</td>\n",
       "      <td>0</td>\n",
       "      <td>0.000000</td>\n",
       "      <td>5</td>\n",
       "    </tr>\n",
       "    <tr>\n",
       "      <th>16488</th>\n",
       "      <td>C7742</td>\n",
       "      <td>0</td>\n",
       "      <td>53</td>\n",
       "      <td>M</td>\n",
       "      <td>954098.25</td>\n",
       "      <td>SAL</td>\n",
       "      <td>145</td>\n",
       "      <td>14</td>\n",
       "      <td>CA</td>\n",
       "      <td>113</td>\n",
       "      <td>...</td>\n",
       "      <td>314470</td>\n",
       "      <td>23630</td>\n",
       "      <td>0.0</td>\n",
       "      <td>0</td>\n",
       "      <td>338100.0</td>\n",
       "      <td>0</td>\n",
       "      <td>1</td>\n",
       "      <td>0</td>\n",
       "      <td>0.298701</td>\n",
       "      <td>9</td>\n",
       "    </tr>\n",
       "    <tr>\n",
       "      <th>11143</th>\n",
       "      <td>C3723</td>\n",
       "      <td>0</td>\n",
       "      <td>44</td>\n",
       "      <td>M</td>\n",
       "      <td>31973.61</td>\n",
       "      <td>PROF</td>\n",
       "      <td>819</td>\n",
       "      <td>10</td>\n",
       "      <td>SA</td>\n",
       "      <td>208</td>\n",
       "      <td>...</td>\n",
       "      <td>0</td>\n",
       "      <td>439230</td>\n",
       "      <td>633187.0</td>\n",
       "      <td>20265</td>\n",
       "      <td>1094082.0</td>\n",
       "      <td>0</td>\n",
       "      <td>0</td>\n",
       "      <td>0</td>\n",
       "      <td>0.000000</td>\n",
       "      <td>5</td>\n",
       "    </tr>\n",
       "    <tr>\n",
       "      <th>14011</th>\n",
       "      <td>C390</td>\n",
       "      <td>0</td>\n",
       "      <td>28</td>\n",
       "      <td>M</td>\n",
       "      <td>647270.80</td>\n",
       "      <td>SENP</td>\n",
       "      <td>811</td>\n",
       "      <td>21</td>\n",
       "      <td>SA</td>\n",
       "      <td>204</td>\n",
       "      <td>...</td>\n",
       "      <td>0</td>\n",
       "      <td>0</td>\n",
       "      <td>34993.0</td>\n",
       "      <td>66584</td>\n",
       "      <td>111077.0</td>\n",
       "      <td>0</td>\n",
       "      <td>1</td>\n",
       "      <td>0</td>\n",
       "      <td>0.000000</td>\n",
       "      <td>5</td>\n",
       "    </tr>\n",
       "    <tr>\n",
       "      <th>19411</th>\n",
       "      <td>C19037</td>\n",
       "      <td>1</td>\n",
       "      <td>24</td>\n",
       "      <td>M</td>\n",
       "      <td>21531.70</td>\n",
       "      <td>SENP</td>\n",
       "      <td>230</td>\n",
       "      <td>7</td>\n",
       "      <td>CA</td>\n",
       "      <td>93</td>\n",
       "      <td>...</td>\n",
       "      <td>0</td>\n",
       "      <td>2063920</td>\n",
       "      <td>242417.0</td>\n",
       "      <td>121344</td>\n",
       "      <td>2492781.0</td>\n",
       "      <td>0</td>\n",
       "      <td>1</td>\n",
       "      <td>1</td>\n",
       "      <td>0.025000</td>\n",
       "      <td>5</td>\n",
       "    </tr>\n",
       "  </tbody>\n",
       "</table>\n",
       "<p>5 rows × 27 columns</p>\n",
       "</div>"
      ],
      "text/plain": [
       "      CUST_ID  TARGET  AGE GENDER    BALANCE OCCUPATION  SCR  HOLDING_PERIOD  \\\n",
       "14583   C9005       0   38      M   32662.89        SAL  486              21   \n",
       "16488   C7742       0   53      M  954098.25        SAL  145              14   \n",
       "11143   C3723       0   44      M   31973.61       PROF  819              10   \n",
       "14011    C390       0   28      M  647270.80       SENP  811              21   \n",
       "19411  C19037       1   24      M   21531.70       SENP  230               7   \n",
       "\n",
       "      ACC_TYPE  LEN_OF_RLTN_IN_MNTH   ...    AMT_BR_CSH_WDL_DR  AMT_CHQ_DR  \\\n",
       "14583       SA                  149   ...                58360           0   \n",
       "16488       CA                  113   ...               314470       23630   \n",
       "11143       SA                  208   ...                    0      439230   \n",
       "14011       SA                  204   ...                    0           0   \n",
       "19411       CA                   93   ...                    0     2063920   \n",
       "\n",
       "       AMT_NET_DR  AMT_MOB_DR   AMT_L_DR  FLG_HAS_ANY_CHGS  FLG_HAS_NOMINEE  \\\n",
       "14583         0.0           0    58360.0                 0                1   \n",
       "16488         0.0           0   338100.0                 0                1   \n",
       "11143    633187.0       20265  1094082.0                 0                0   \n",
       "14011     34993.0       66584   111077.0                 0                1   \n",
       "19411    242417.0      121344  2492781.0                 0                1   \n",
       "\n",
       "       FLG_HAS_OLD_LOAN  prob_score  decile  \n",
       "14583                 0    0.000000       5  \n",
       "16488                 0    0.298701       9  \n",
       "11143                 0    0.000000       5  \n",
       "14011                 0    0.000000       5  \n",
       "19411                 1    0.025000       5  \n",
       "\n",
       "[5 rows x 27 columns]"
      ]
     },
     "execution_count": 331,
     "metadata": {},
     "output_type": "execute_result"
    }
   ],
   "source": [
    "train.head()"
   ]
  },
  {
   "cell_type": "markdown",
   "metadata": {},
   "source": [
    "scoring step\n",
    "\n",
    "\n",
    "\n",
    "decile code"
   ]
  },
  {
   "cell_type": "code",
   "execution_count": 332,
   "metadata": {},
   "outputs": [],
   "source": [
    "def deciles(x):\n",
    "    decile = pd.Series(index=[0,1,2,3,4,5,6,7,8,9])\n",
    "    for i in np.arange(0.1,1.1,0.1):\n",
    "        decile[int(i*10)]=x.quantile(i)\n",
    "    def z(x):\n",
    "        if x<decile[1]: return(1)\n",
    "        elif x<decile[2]: return(2)\n",
    "        elif x<decile[3]: return(3)\n",
    "        elif x<decile[4]: return(4)\n",
    "        elif x<decile[5]: return(5)\n",
    "        elif x<decile[6]: return(6)\n",
    "        elif x<decile[7]: return(7)\n",
    "        elif x<decile[8]: return(8)\n",
    "        elif x<decile[9]: return(9)\n",
    "        elif x<=decile[10]: return(10)\n",
    "        else:return(np.NaN)\n",
    "    s=x.map(z)\n",
    "    return(s)"
   ]
  },
  {
   "cell_type": "code",
   "execution_count": 333,
   "metadata": {},
   "outputs": [],
   "source": [
    "def Rank_Ordering(X,y,Target):\n",
    "    X['decile']=deciles(X[y])\n",
    "    Rank=X.groupby('decile').apply(lambda x: pd.Series([\n",
    "        np.min(x[y]),\n",
    "        np.max(x[y]),\n",
    "        np.mean(x[y]),\n",
    "        np.size(x[y]),\n",
    "        np.sum(x[Target]),\n",
    "        np.size(x[Target][x[Target]==0]),\n",
    "        ],\n",
    "        index=([\"min_resp\",\"max_resp\",\"avg_resp\",\n",
    "                \"cnt\",\"cnt_resp\",\"cnt_non_resp\"])\n",
    "        )).reset_index()\n",
    "    Rank = Rank.sort_values(by='decile',ascending=False)\n",
    "    Rank[\"rrate\"] = Rank[\"cnt_resp\"]*100/Rank[\"cnt\"]\n",
    "    Rank[\"cum_resp\"] = np.cumsum(Rank[\"cnt_resp\"])\n",
    "    Rank[\"cum_non_resp\"] = np.cumsum(Rank[\"cnt_non_resp\"])\n",
    "    Rank[\"cum_resp_pct\"] = Rank[\"cum_resp\"]/np.sum(Rank[\"cnt_resp\"])\n",
    "    Rank[\"cum_non_resp_pct\"]=Rank[\"cum_non_resp\"]/np.sum(Rank[\"cnt_non_resp\"])\n",
    "    Rank[\"KS\"] = Rank[\"cum_resp_pct\"] - Rank[\"cum_non_resp_pct\"]\n",
    "    Rank\n",
    "    return(Rank)"
   ]
  },
  {
   "cell_type": "code",
   "execution_count": 334,
   "metadata": {},
   "outputs": [
    {
     "name": "stderr",
     "output_type": "stream",
     "text": [
      "C:\\ProgramData\\Anaconda3\\lib\\site-packages\\ipykernel_launcher.py:2: SettingWithCopyWarning: \n",
      "A value is trying to be set on a copy of a slice from a DataFrame.\n",
      "Try using .loc[row_indexer,col_indexer] = value instead\n",
      "\n",
      "See the caveats in the documentation: http://pandas.pydata.org/pandas-docs/stable/indexing.html#indexing-view-versus-copy\n",
      "  \n"
     ]
    },
    {
     "data": {
      "text/html": [
       "<div>\n",
       "<style scoped>\n",
       "    .dataframe tbody tr th:only-of-type {\n",
       "        vertical-align: middle;\n",
       "    }\n",
       "\n",
       "    .dataframe tbody tr th {\n",
       "        vertical-align: top;\n",
       "    }\n",
       "\n",
       "    .dataframe thead th {\n",
       "        text-align: right;\n",
       "    }\n",
       "</style>\n",
       "<table border=\"1\" class=\"dataframe\">\n",
       "  <thead>\n",
       "    <tr style=\"text-align: right;\">\n",
       "      <th></th>\n",
       "      <th>decile</th>\n",
       "      <th>min_resp</th>\n",
       "      <th>max_resp</th>\n",
       "      <th>avg_resp</th>\n",
       "      <th>cnt</th>\n",
       "      <th>cnt_resp</th>\n",
       "      <th>cnt_non_resp</th>\n",
       "      <th>rrate</th>\n",
       "      <th>cum_resp</th>\n",
       "      <th>cum_non_resp</th>\n",
       "      <th>cum_resp_pct</th>\n",
       "      <th>cum_non_resp_pct</th>\n",
       "      <th>KS</th>\n",
       "    </tr>\n",
       "  </thead>\n",
       "  <tbody>\n",
       "    <tr>\n",
       "      <th>5</th>\n",
       "      <td>10</td>\n",
       "      <td>0.405063</td>\n",
       "      <td>0.900000</td>\n",
       "      <td>0.551396</td>\n",
       "      <td>1469.0</td>\n",
       "      <td>810.0</td>\n",
       "      <td>659.0</td>\n",
       "      <td>55.139551</td>\n",
       "      <td>810.0</td>\n",
       "      <td>659.0</td>\n",
       "      <td>0.449251</td>\n",
       "      <td>0.054030</td>\n",
       "      <td>0.395222</td>\n",
       "    </tr>\n",
       "    <tr>\n",
       "      <th>4</th>\n",
       "      <td>9</td>\n",
       "      <td>0.281690</td>\n",
       "      <td>0.400000</td>\n",
       "      <td>0.333573</td>\n",
       "      <td>1388.0</td>\n",
       "      <td>463.0</td>\n",
       "      <td>925.0</td>\n",
       "      <td>33.357349</td>\n",
       "      <td>1273.0</td>\n",
       "      <td>1584.0</td>\n",
       "      <td>0.706045</td>\n",
       "      <td>0.129868</td>\n",
       "      <td>0.576177</td>\n",
       "    </tr>\n",
       "    <tr>\n",
       "      <th>3</th>\n",
       "      <td>8</td>\n",
       "      <td>0.160714</td>\n",
       "      <td>0.276596</td>\n",
       "      <td>0.204960</td>\n",
       "      <td>1371.0</td>\n",
       "      <td>281.0</td>\n",
       "      <td>1090.0</td>\n",
       "      <td>20.495988</td>\n",
       "      <td>1554.0</td>\n",
       "      <td>2674.0</td>\n",
       "      <td>0.861897</td>\n",
       "      <td>0.219234</td>\n",
       "      <td>0.642663</td>\n",
       "    </tr>\n",
       "    <tr>\n",
       "      <th>2</th>\n",
       "      <td>7</td>\n",
       "      <td>0.089552</td>\n",
       "      <td>0.153846</td>\n",
       "      <td>0.114993</td>\n",
       "      <td>1374.0</td>\n",
       "      <td>158.0</td>\n",
       "      <td>1216.0</td>\n",
       "      <td>11.499272</td>\n",
       "      <td>1712.0</td>\n",
       "      <td>3890.0</td>\n",
       "      <td>0.949529</td>\n",
       "      <td>0.318931</td>\n",
       "      <td>0.630598</td>\n",
       "    </tr>\n",
       "    <tr>\n",
       "      <th>1</th>\n",
       "      <td>6</td>\n",
       "      <td>0.027027</td>\n",
       "      <td>0.086957</td>\n",
       "      <td>0.055129</td>\n",
       "      <td>1433.0</td>\n",
       "      <td>79.0</td>\n",
       "      <td>1354.0</td>\n",
       "      <td>5.512910</td>\n",
       "      <td>1791.0</td>\n",
       "      <td>5244.0</td>\n",
       "      <td>0.993344</td>\n",
       "      <td>0.429942</td>\n",
       "      <td>0.563403</td>\n",
       "    </tr>\n",
       "    <tr>\n",
       "      <th>0</th>\n",
       "      <td>5</td>\n",
       "      <td>0.000000</td>\n",
       "      <td>0.026316</td>\n",
       "      <td>0.001723</td>\n",
       "      <td>6965.0</td>\n",
       "      <td>12.0</td>\n",
       "      <td>6953.0</td>\n",
       "      <td>0.172290</td>\n",
       "      <td>1803.0</td>\n",
       "      <td>12197.0</td>\n",
       "      <td>1.000000</td>\n",
       "      <td>1.000000</td>\n",
       "      <td>0.000000</td>\n",
       "    </tr>\n",
       "  </tbody>\n",
       "</table>\n",
       "</div>"
      ],
      "text/plain": [
       "   decile  min_resp  max_resp  avg_resp     cnt  cnt_resp  cnt_non_resp  \\\n",
       "5      10  0.405063  0.900000  0.551396  1469.0     810.0         659.0   \n",
       "4       9  0.281690  0.400000  0.333573  1388.0     463.0         925.0   \n",
       "3       8  0.160714  0.276596  0.204960  1371.0     281.0        1090.0   \n",
       "2       7  0.089552  0.153846  0.114993  1374.0     158.0        1216.0   \n",
       "1       6  0.027027  0.086957  0.055129  1433.0      79.0        1354.0   \n",
       "0       5  0.000000  0.026316  0.001723  6965.0      12.0        6953.0   \n",
       "\n",
       "       rrate  cum_resp  cum_non_resp  cum_resp_pct  cum_non_resp_pct        KS  \n",
       "5  55.139551     810.0         659.0      0.449251          0.054030  0.395222  \n",
       "4  33.357349    1273.0        1584.0      0.706045          0.129868  0.576177  \n",
       "3  20.495988    1554.0        2674.0      0.861897          0.219234  0.642663  \n",
       "2  11.499272    1712.0        3890.0      0.949529          0.318931  0.630598  \n",
       "1   5.512910    1791.0        5244.0      0.993344          0.429942  0.563403  \n",
       "0   0.172290    1803.0       12197.0      1.000000          1.000000  0.000000  "
      ]
     },
     "execution_count": 334,
     "metadata": {},
     "output_type": "execute_result"
    }
   ],
   "source": [
    "Rank = Rank_Ordering(train,\"prob_score\",\"TARGET\")\n",
    "Rank"
   ]
  },
  {
   "cell_type": "markdown",
   "metadata": {},
   "source": [
    "We are getting 6 deciles, best Ks value is 64.26%."
   ]
  },
  {
   "cell_type": "markdown",
   "metadata": {},
   "source": [
    "Let us see the Rank Ordering on test Dataset"
   ]
  },
  {
   "cell_type": "code",
   "execution_count": 335,
   "metadata": {},
   "outputs": [
    {
     "name": "stderr",
     "output_type": "stream",
     "text": [
      "C:\\ProgramData\\Anaconda3\\lib\\site-packages\\ipykernel_launcher.py:2: SettingWithCopyWarning: \n",
      "A value is trying to be set on a copy of a slice from a DataFrame.\n",
      "Try using .loc[row_indexer,col_indexer] = value instead\n",
      "\n",
      "See the caveats in the documentation: http://pandas.pydata.org/pandas-docs/stable/indexing.html#indexing-view-versus-copy\n",
      "  \n"
     ]
    },
    {
     "data": {
      "text/html": [
       "<div>\n",
       "<style scoped>\n",
       "    .dataframe tbody tr th:only-of-type {\n",
       "        vertical-align: middle;\n",
       "    }\n",
       "\n",
       "    .dataframe tbody tr th {\n",
       "        vertical-align: top;\n",
       "    }\n",
       "\n",
       "    .dataframe thead th {\n",
       "        text-align: right;\n",
       "    }\n",
       "</style>\n",
       "<table border=\"1\" class=\"dataframe\">\n",
       "  <thead>\n",
       "    <tr style=\"text-align: right;\">\n",
       "      <th></th>\n",
       "      <th>decile</th>\n",
       "      <th>min_resp</th>\n",
       "      <th>max_resp</th>\n",
       "      <th>avg_resp</th>\n",
       "      <th>cnt</th>\n",
       "      <th>cnt_resp</th>\n",
       "      <th>cnt_non_resp</th>\n",
       "      <th>rrate</th>\n",
       "      <th>cum_resp</th>\n",
       "      <th>cum_non_resp</th>\n",
       "      <th>cum_resp_pct</th>\n",
       "      <th>cum_non_resp_pct</th>\n",
       "      <th>KS</th>\n",
       "    </tr>\n",
       "  </thead>\n",
       "  <tbody>\n",
       "    <tr>\n",
       "      <th>5</th>\n",
       "      <td>10</td>\n",
       "      <td>0.416667</td>\n",
       "      <td>0.900000</td>\n",
       "      <td>0.549320</td>\n",
       "      <td>602.0</td>\n",
       "      <td>224.0</td>\n",
       "      <td>378.0</td>\n",
       "      <td>37.209302</td>\n",
       "      <td>224.0</td>\n",
       "      <td>378.0</td>\n",
       "      <td>0.315938</td>\n",
       "      <td>0.071442</td>\n",
       "      <td>0.244496</td>\n",
       "    </tr>\n",
       "    <tr>\n",
       "      <th>4</th>\n",
       "      <td>9</td>\n",
       "      <td>0.285714</td>\n",
       "      <td>0.409091</td>\n",
       "      <td>0.340795</td>\n",
       "      <td>619.0</td>\n",
       "      <td>162.0</td>\n",
       "      <td>457.0</td>\n",
       "      <td>26.171244</td>\n",
       "      <td>386.0</td>\n",
       "      <td>835.0</td>\n",
       "      <td>0.544429</td>\n",
       "      <td>0.157815</td>\n",
       "      <td>0.386614</td>\n",
       "    </tr>\n",
       "    <tr>\n",
       "      <th>3</th>\n",
       "      <td>8</td>\n",
       "      <td>0.179775</td>\n",
       "      <td>0.283582</td>\n",
       "      <td>0.220824</td>\n",
       "      <td>580.0</td>\n",
       "      <td>116.0</td>\n",
       "      <td>464.0</td>\n",
       "      <td>20.000000</td>\n",
       "      <td>502.0</td>\n",
       "      <td>1299.0</td>\n",
       "      <td>0.708039</td>\n",
       "      <td>0.245511</td>\n",
       "      <td>0.462528</td>\n",
       "    </tr>\n",
       "    <tr>\n",
       "      <th>2</th>\n",
       "      <td>7</td>\n",
       "      <td>0.094340</td>\n",
       "      <td>0.171429</td>\n",
       "      <td>0.126781</td>\n",
       "      <td>608.0</td>\n",
       "      <td>89.0</td>\n",
       "      <td>519.0</td>\n",
       "      <td>14.638158</td>\n",
       "      <td>591.0</td>\n",
       "      <td>1818.0</td>\n",
       "      <td>0.833568</td>\n",
       "      <td>0.343602</td>\n",
       "      <td>0.489966</td>\n",
       "    </tr>\n",
       "    <tr>\n",
       "      <th>1</th>\n",
       "      <td>6</td>\n",
       "      <td>0.040000</td>\n",
       "      <td>0.092308</td>\n",
       "      <td>0.066409</td>\n",
       "      <td>600.0</td>\n",
       "      <td>50.0</td>\n",
       "      <td>550.0</td>\n",
       "      <td>8.333333</td>\n",
       "      <td>641.0</td>\n",
       "      <td>2368.0</td>\n",
       "      <td>0.904090</td>\n",
       "      <td>0.447552</td>\n",
       "      <td>0.456538</td>\n",
       "    </tr>\n",
       "    <tr>\n",
       "      <th>0</th>\n",
       "      <td>5</td>\n",
       "      <td>0.000000</td>\n",
       "      <td>0.039216</td>\n",
       "      <td>0.003276</td>\n",
       "      <td>2991.0</td>\n",
       "      <td>68.0</td>\n",
       "      <td>2923.0</td>\n",
       "      <td>2.273487</td>\n",
       "      <td>709.0</td>\n",
       "      <td>5291.0</td>\n",
       "      <td>1.000000</td>\n",
       "      <td>1.000000</td>\n",
       "      <td>0.000000</td>\n",
       "    </tr>\n",
       "  </tbody>\n",
       "</table>\n",
       "</div>"
      ],
      "text/plain": [
       "   decile  min_resp  max_resp  avg_resp     cnt  cnt_resp  cnt_non_resp  \\\n",
       "5      10  0.416667  0.900000  0.549320   602.0     224.0         378.0   \n",
       "4       9  0.285714  0.409091  0.340795   619.0     162.0         457.0   \n",
       "3       8  0.179775  0.283582  0.220824   580.0     116.0         464.0   \n",
       "2       7  0.094340  0.171429  0.126781   608.0      89.0         519.0   \n",
       "1       6  0.040000  0.092308  0.066409   600.0      50.0         550.0   \n",
       "0       5  0.000000  0.039216  0.003276  2991.0      68.0        2923.0   \n",
       "\n",
       "       rrate  cum_resp  cum_non_resp  cum_resp_pct  cum_non_resp_pct        KS  \n",
       "5  37.209302     224.0         378.0      0.315938          0.071442  0.244496  \n",
       "4  26.171244     386.0         835.0      0.544429          0.157815  0.386614  \n",
       "3  20.000000     502.0        1299.0      0.708039          0.245511  0.462528  \n",
       "2  14.638158     591.0        1818.0      0.833568          0.343602  0.489966  \n",
       "1   8.333333     641.0        2368.0      0.904090          0.447552  0.456538  \n",
       "0   2.273487     709.0        5291.0      1.000000          1.000000  0.000000  "
      ]
     },
     "execution_count": 335,
     "metadata": {},
     "output_type": "execute_result"
    }
   ],
   "source": [
    "Prediction_h = classifier.predict_proba(X_test)\n",
    "test[\"prob_score\"] = Prediction_h[:,1]\n",
    "\n",
    "Rank_h = Rank_Ordering(test,\"prob_score\",\"TARGET\")\n",
    "Rank_h\n"
   ]
  },
  {
   "cell_type": "markdown",
   "metadata": {},
   "source": [
    "Here the best KS is 48.23%, so this is good model."
   ]
  },
  {
   "cell_type": "code",
   "execution_count": 336,
   "metadata": {},
   "outputs": [
    {
     "data": {
      "text/plain": [
       "0.23762838468720815"
      ]
     },
     "execution_count": 336,
     "metadata": {},
     "output_type": "execute_result"
    }
   ],
   "source": [
    "Deviation = (0.6426 - 0.4899)/0.6426\n",
    "Deviation\n"
   ]
  },
  {
   "cell_type": "markdown",
   "metadata": {},
   "source": [
    "It is very high, must be within 10%"
   ]
  },
  {
   "cell_type": "code",
   "execution_count": 337,
   "metadata": {},
   "outputs": [
    {
     "data": {
      "text/plain": [
       "0.32523127153999637"
      ]
     },
     "execution_count": 337,
     "metadata": {},
     "output_type": "execute_result"
    }
   ],
   "source": [
    "(55.13-37.20)/55.13"
   ]
  },
  {
   "cell_type": "code",
   "execution_count": 338,
   "metadata": {},
   "outputs": [
    {
     "data": {
      "text/plain": [
       "array([[   0, 5291],\n",
       "       [   1,  709]], dtype=int64)"
      ]
     },
     "execution_count": 338,
     "metadata": {},
     "output_type": "execute_result"
    }
   ],
   "source": [
    "y_freq = np.bincount(y_test)\n",
    "y_val = np.nonzero(y_freq)[0]\n",
    "np.vstack((y_val,y_freq[y_val])).T"
   ]
  },
  {
   "cell_type": "code",
   "execution_count": 339,
   "metadata": {},
   "outputs": [
    {
     "data": {
      "text/plain": [
       "0.11816666666666667"
      ]
     },
     "execution_count": 339,
     "metadata": {},
     "output_type": "execute_result"
    }
   ],
   "source": [
    "Responserate=709 / 6000\n",
    "Responserate"
   ]
  },
  {
   "cell_type": "code",
   "execution_count": 340,
   "metadata": {},
   "outputs": [
    {
     "data": {
      "text/plain": [
       "4.9930069930069925"
      ]
     },
     "execution_count": 340,
     "metadata": {},
     "output_type": "execute_result"
    }
   ],
   "source": [
    "## LIFT For training data\n",
    "0.6426/0.1287\n"
   ]
  },
  {
   "cell_type": "code",
   "execution_count": 343,
   "metadata": {},
   "outputs": [
    {
     "data": {
      "text/plain": [
       "4.14817950889077"
      ]
     },
     "execution_count": 343,
     "metadata": {},
     "output_type": "execute_result"
    }
   ],
   "source": [
    "## LIFT For test data\n",
    "0.4899/0.1181"
   ]
  },
  {
   "cell_type": "code",
   "execution_count": 345,
   "metadata": {},
   "outputs": [
    {
     "data": {
      "text/plain": [
       "0.17034068136272554"
      ]
     },
     "execution_count": 345,
     "metadata": {},
     "output_type": "execute_result"
    }
   ],
   "source": [
    "##difference\n",
    "(4.99-4.14)/4.99"
   ]
  },
  {
   "cell_type": "markdown",
   "metadata": {},
   "source": [
    "This is also very high for a model."
   ]
  },
  {
   "cell_type": "code",
   "execution_count": null,
   "metadata": {},
   "outputs": [],
   "source": []
  }
 ],
 "metadata": {
  "kernelspec": {
   "display_name": "Python 3",
   "language": "python",
   "name": "python3"
  },
  "language_info": {
   "codemirror_mode": {
    "name": "ipython",
    "version": 3
   },
   "file_extension": ".py",
   "mimetype": "text/x-python",
   "name": "python",
   "nbconvert_exporter": "python",
   "pygments_lexer": "ipython3",
   "version": "3.6.4"
  }
 },
 "nbformat": 4,
 "nbformat_minor": 2
}
